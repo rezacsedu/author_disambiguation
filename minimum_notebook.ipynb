{
 "cells": [
  {
   "cell_type": "code",
   "execution_count": 1,
   "id": "52362352",
   "metadata": {},
   "outputs": [
    {
     "name": "stderr",
     "output_type": "stream",
     "text": [
      "Using TensorFlow backend.\n"
     ]
    }
   ],
   "source": [
    "#!/usr/bin/env python\n",
    "# coding: utf-8\n",
    "\n",
    "# Loading required libraries and python modeules\n",
    "# Pandas and numpy for data processing and liner algebra\n",
    "import numpy as np  \n",
    "import pandas as pd  \n",
    "\n",
    "# For plotting \n",
    "import matplotlib.pyplot as plt\n",
    "import seaborn as sns\n",
    "\n",
    "# Progress bar for python and CLI\n",
    "from tqdm import tqdm\n",
    "\n",
    "## Importing sklearn modules\n",
    "from sklearn.ensemble import RandomForestClassifier\n",
    "from sklearn.feature_extraction.text import CountVectorizer\n",
    "from sklearn.metrics import accuracy_score, f1_score, recall_score, precision_score, matthews_corrcoef\n",
    "from sklearn.model_selection import train_test_split\n",
    "from sklearn.model_selection import RandomizedSearchCV\n",
    "from sklearn.preprocessing import LabelEncoder\n",
    "from sklearn.preprocessing import OneHotEncoder\n",
    "\n",
    "## Suprass some hectic warnings \n",
    "import warnings\n",
    "warnings.simplefilter(action='ignore', category=FutureWarning)\n",
    "\n",
    "# Use Keras with TensorFlow backend \n",
    "import tensorflow as tf\n",
    "from keras.models import Sequential\n",
    "from keras.layers import Dense,Dropout\n",
    "\n",
    "from utils import *"
   ]
  },
  {
   "cell_type": "code",
   "execution_count": 4,
   "id": "67012648",
   "metadata": {},
   "outputs": [
    {
     "data": {
      "text/plain": [
       "193"
      ]
     },
     "execution_count": 4,
     "metadata": {},
     "output_type": "execute_result"
    },
    {
     "data": {
      "image/png": "[encoded data removed]",
      "text/plain": [
       "<Figure size 432x288 with 1 Axes>"
      ]
     },
     "metadata": {
      "needs_background": "light"
     },
     "output_type": "display_data"
    }
   ],
   "source": [
    "data = \"data.json\" \n",
    "labels = \"ground-truth.json\" \n",
    "persons = \"persons.json\"\n",
    "\n",
    "df, df_ground_truth, df_person, d_labels, author_mapping_dict, id_author_mapping_dict = prepareData(data, labels, persons)"
   ]
  },
  {
   "cell_type": "code",
   "execution_count": 9,
   "id": "1c00c5b0",
   "metadata": {},
   "outputs": [
    {
     "name": "stdout",
     "output_type": "stream",
     "text": [
      "Number of persons to be disambiguated: 193\n",
      "Number of unique labels: 187\n"
     ]
    },
    {
     "data": {
      "image/png": "[encoded data removed]",
      "text/plain": [
       "<Figure size 432x288 with 1 Axes>"
      ]
     },
     "metadata": {
      "needs_background": "light"
     },
     "output_type": "display_data"
    }
   ],
   "source": [
    "## Some EDA\n",
    "\n",
    "# contribution distribution\n",
    "df_ground_truth.groupby(\"personId\").count().sort_values(by=['contributionId']).plot()\n",
    "    \n",
    "# Unique persons\n",
    "n_persons = len(df_person)\n",
    "print(\"Number of persons to be disambiguated: \" + str(n_persons))\n",
    "\n",
    "# Let's see how many unique labels we got\n",
    "print(\"Number of unique labels: \" + str(len(np.unique(d_labels))))"
   ]
  },
  {
   "cell_type": "code",
   "execution_count": 10,
   "id": "27bcd2ca",
   "metadata": {},
   "outputs": [],
   "source": [
    "# Feature engineering and feature vector creation: let's see what's we got to be used as features for our model \n",
    "df['features'].head()\n",
    "\n",
    "# Using CountVectorizer, we do lose any order with those feature columns with below method however has no effect anyway\n",
    "cv = CountVectorizer()\n",
    "cv_vec = cv.fit_transform(df['features'].values.tolist())\n",
    "\n",
    "# ### Train and test set creation: we use 80% for training an estimator, the rest 20% for evaluation the trained model. \n",
    "X_train, X_test, y_train, y_test = train_test_split(cv_vec, d_labels, test_size=0.2, random_state=42)"
   ]
  },
  {
   "cell_type": "code",
   "execution_count": 11,
   "id": "1e2fae18",
   "metadata": {},
   "outputs": [
    {
     "name": "stdout",
     "output_type": "stream",
     "text": [
      "Fitting 3 folds for each of 100 candidates, totalling 300 fits\n"
     ]
    },
    {
     "name": "stderr",
     "output_type": "stream",
     "text": [
      "/home/rkarim/.local/lib/python3.7/site-packages/sklearn/model_selection/_split.py:667: UserWarning: The least populated class in y has only 1 members, which is less than n_splits=3.\n",
      "  % (min_groups, self.n_splits)), UserWarning)\n",
      "[Parallel(n_jobs=-1)]: Using backend LokyBackend with 20 concurrent workers.\n",
      "[Parallel(n_jobs=-1)]: Done   1 tasks      | elapsed:    1.5s\n",
      "[Parallel(n_jobs=-1)]: Done 122 tasks      | elapsed:    9.2s\n",
      "[Parallel(n_jobs=-1)]: Done 300 out of 300 | elapsed:   22.8s finished\n"
     ]
    }
   ],
   "source": [
    "estimator = initModel(X_train, X_test)\n",
    "cv_model = estimator.fit(X_train, y_train)"
   ]
  },
  {
   "cell_type": "code",
   "execution_count": 12,
   "id": "ae2717bf",
   "metadata": {},
   "outputs": [
    {
     "name": "stdout",
     "output_type": "stream",
     "text": [
      "Precision: 0.7312604776720076\n",
      "Recall: 0.7197925867328852\n",
      "F1: 0.7129612941420553\n",
      "MCC: 0.8554765521314335\n"
     ]
    },
    {
     "name": "stderr",
     "output_type": "stream",
     "text": [
      "/home/rkarim/.local/lib/python3.7/site-packages/sklearn/metrics/_classification.py:1272: UndefinedMetricWarning: Precision is ill-defined and being set to 0.0 in labels with no predicted samples. Use `zero_division` parameter to control this behavior.\n",
      "  _warn_prf(average, modifier, msg_start, len(result))\n",
      "/home/rkarim/.local/lib/python3.7/site-packages/sklearn/metrics/_classification.py:1272: UndefinedMetricWarning: Recall is ill-defined and being set to 0.0 in labels with no true samples. Use `zero_division` parameter to control this behavior.\n",
      "  _warn_prf(average, modifier, msg_start, len(result))\n"
     ]
    }
   ],
   "source": [
    "# Step-3: evaluating the trained RF model on test set: now that the RF model is trained, we evaluate the performence on the 20% held-out test set. This is, hopefully, give some good basis or justification why RF was a good and reasonable choice. To upport the arument, I'll further use some sort of AutoML library such as PyCaret. \n",
    "y_pred = cv_model.predict(X_test)\n",
    "\n",
    "## Calculating metrics for each label and their unweighted mean. This does not take label imbalance into account.\n",
    "precision = precision_score(y_test, y_pred, average='macro')\n",
    "recall = recall_score(y_test, y_pred, average='macro')\n",
    "f1 = f1_score(y_test, y_pred, average='macro')\n",
    "\n",
    "# As the dataset is not balanced, let's use MCC too \n",
    "mcc = matthews_corrcoef(y_test, y_pred)\n",
    "\n",
    "print(\"Precision: \" + str(precision))\n",
    "print(\"Recall: \" + str(recall))\n",
    "print(\"F1: \" + str(f1))\n",
    "print(\"MCC: \" + str(mcc))"
   ]
  },
  {
   "cell_type": "code",
   "execution_count": 13,
   "id": "ba439d4e",
   "metadata": {},
   "outputs": [
    {
     "data": {
      "text/html": [
       "<div>\n",
       "<style scoped>\n",
       "    .dataframe tbody tr th:only-of-type {\n",
       "        vertical-align: middle;\n",
       "    }\n",
       "\n",
       "    .dataframe tbody tr th {\n",
       "        vertical-align: top;\n",
       "    }\n",
       "\n",
       "    .dataframe thead th {\n",
       "        text-align: right;\n",
       "    }\n",
       "</style>\n",
       "<table border=\"1\" class=\"dataframe\">\n",
       "  <thead>\n",
       "    <tr style=\"text-align: right;\">\n",
       "      <th></th>\n",
       "      <th>index</th>\n",
       "      <th>contribution_id</th>\n",
       "      <th>features</th>\n",
       "      <th>personId</th>\n",
       "      <th>pred</th>\n",
       "    </tr>\n",
       "  </thead>\n",
       "  <tbody>\n",
       "    <tr>\n",
       "      <th>5083</th>\n",
       "      <td>5082</td>\n",
       "      <td>5f6efcf8aa7f0f0018f7c757</td>\n",
       "      <td>哈尔滨血液病肿瘤研究所</td>\n",
       "      <td>ASSO_CN_21</td>\n",
       "      <td>ASSO_CN_21</td>\n",
       "    </tr>\n",
       "    <tr>\n",
       "      <th>5084</th>\n",
       "      <td>5083</td>\n",
       "      <td>5f72ded3458b3300181bf1f3</td>\n",
       "      <td>Eric  Winer boston, usa Cancer Therapy,Oncolog...</td>\n",
       "      <td>10004446</td>\n",
       "      <td>10004446</td>\n",
       "    </tr>\n",
       "    <tr>\n",
       "      <th>5085</th>\n",
       "      <td>5084</td>\n",
       "      <td>5f72e52d2d48e3004a6cc74c</td>\n",
       "      <td>Eric  Winer boston, usa Topic: Solid Tumors,To...</td>\n",
       "      <td>10004446</td>\n",
       "      <td>10004446</td>\n",
       "    </tr>\n",
       "    <tr>\n",
       "      <th>5086</th>\n",
       "      <td>5085</td>\n",
       "      <td>5f7c33b031f1910018a74015</td>\n",
       "      <td>S Vengojaya Prasad</td>\n",
       "      <td>1300152124112</td>\n",
       "      <td>1300152124112</td>\n",
       "    </tr>\n",
       "    <tr>\n",
       "      <th>5087</th>\n",
       "      <td>5086</td>\n",
       "      <td>5f7ceb745bccb8001963d03a</td>\n",
       "      <td>Scott  McKenzie</td>\n",
       "      <td>1300152213113</td>\n",
       "      <td>1300152213113</td>\n",
       "    </tr>\n",
       "  </tbody>\n",
       "</table>\n",
       "</div>"
      ],
      "text/plain": [
       "      index           contribution_id  \\\n",
       "5083   5082  5f6efcf8aa7f0f0018f7c757   \n",
       "5084   5083  5f72ded3458b3300181bf1f3   \n",
       "5085   5084  5f72e52d2d48e3004a6cc74c   \n",
       "5086   5085  5f7c33b031f1910018a74015   \n",
       "5087   5086  5f7ceb745bccb8001963d03a   \n",
       "\n",
       "                                               features       personId  \\\n",
       "5083                                     哈尔滨血液病肿瘤研究所        ASSO_CN_21   \n",
       "5084  Eric  Winer boston, usa Cancer Therapy,Oncolog...       10004446   \n",
       "5085  Eric  Winer boston, usa Topic: Solid Tumors,To...       10004446   \n",
       "5086                             S Vengojaya Prasad      1300152124112   \n",
       "5087                                Scott  McKenzie      1300152213113   \n",
       "\n",
       "               pred  \n",
       "5083     ASSO_CN_21  \n",
       "5084       10004446  \n",
       "5085       10004446  \n",
       "5086  1300152124112  \n",
       "5087  1300152213113  "
      ]
     },
     "execution_count": 13,
     "metadata": {},
     "output_type": "execute_result"
    }
   ],
   "source": [
    "# Step-5: Naive validation on riginal data for output reasons + sharing\n",
    "d_vec = cv.transform(df['features'].values.tolist())\n",
    "np.argmax(cv_model.predict_proba(d_vec), axis=1)\n",
    "y_res = [id_author_mapping_dict[i] for i in d_labels]\n",
    "df[\"pred\"] = y_res\n",
    "\n",
    "df.to_csv(\"full_output_matches.tsv\", sep ='\\t', index=False)\n",
    "df[[\"index\", \"contribution_id\", \"features\", \"personId\", \"pred\"]].to_csv(\"output_matches.tsv\", sep ='\\t', index=False)\n",
    "\n",
    "## Let's randomly checks some rows to see how the model predicted\n",
    "sm_df = pd.read_csv(\"output_matches.tsv\", sep ='\\t')\n",
    "sm_df.tail()"
   ]
  },
  {
   "cell_type": "code",
   "execution_count": null,
   "id": "8a5e4fc5",
   "metadata": {},
   "outputs": [],
   "source": []
  }
 ],
 "metadata": {
  "kernelspec": {
   "display_name": "Python 3",
   "language": "python",
   "name": "python3"
  },
  "language_info": {
   "codemirror_mode": {
    "name": "ipython",
    "version": 3
   },
   "file_extension": ".py",
   "mimetype": "text/x-python",
   "name": "python",
   "nbconvert_exporter": "python",
   "pygments_lexer": "ipython3",
   "version": "3.7.4"
  }
 },
 "nbformat": 4,
 "nbformat_minor": 5
}
